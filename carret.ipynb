{
 "cells": [
  {
   "cell_type": "code",
   "execution_count": 1,
   "metadata": {},
   "outputs": [],
   "source": [
    "# Import ML libraries\n",
    "import pycaret\n",
    "import xgboost\n",
    "\n",
    "# Snowpark for Python\n",
    "from snowflake.snowpark.session import Session\n",
    "import snowflake.snowpark.types as T\n",
    "import snowflake.snowpark.functions as F\n",
    "from snowflake.snowpark.functions import datediff, to_date, col, expr, sproc\n",
    "\n",
    "# Import Misc\n",
    "import json\n",
    "import pandas as pd\n"
   ]
  },
  {
   "cell_type": "code",
   "execution_count": 2,
   "metadata": {},
   "outputs": [],
   "source": [
    "import psutil\n",
    "def cpu_count_patched(logical=False):\n",
    "    import os\n",
    "    return os.cpu_count()\n",
    "psutil.cpu_count = cpu_count_patched"
   ]
  },
  {
   "cell_type": "code",
   "execution_count": 3,
   "metadata": {},
   "outputs": [],
   "source": [
    "# Create Snowflake Session object\n",
    "connection_parameters = json.load(open(\"connection.json\"))\n",
    "\n",
    "session = Session.builder.configs(connection_parameters).create()"
   ]
  },
  {
   "cell_type": "code",
   "execution_count": 4,
   "metadata": {},
   "outputs": [
    {
     "name": "stdout",
     "output_type": "stream",
     "text": [
      "------------------------------------------------------------------------------------------------------------------------------------------------------------------------------------------------------------------------------------------------------------------------------------------------------------------------------------------------------\n",
      "|\"PURCHASE_DOCUMENT_ITEM_ID\"  |\"VENDOR_ID\"  |\"POSTAL_CD\"  |\"PLANT_ID\"  |\"MATERIAL_ID\"  |\"MRP_TYPE_ID\"  |\"COMPANY_CODE_ID\"  |\"SUB_COMMODITY_DESC\"                    |\"INBOUND_DELIVERY_ID\"  |\"INBOUND_DELIVERY_ITEM_ID\"  |\"CREATE_DATE_ML\"  |\"FIRST_GR_POSTING_DATE_ML\"  |\"REQUESTED_DELIVERY_DATE_ML\"  |\"PLANNED_DELIVERY_DAYS\"  |\"TARGET_FEATURE\"  |\n",
      "------------------------------------------------------------------------------------------------------------------------------------------------------------------------------------------------------------------------------------------------------------------------------------------------------------------------------------------------------\n",
      "|30                           |NULL         |NULL         |4007        |2100032311     |1              |CA10               |Tolling                                 |185821762              |30                          |2021-07-03        |2021-07-03                  |2021-07-03                    |0.0                      |0                 |\n",
      "|30                           |NULL         |NULL         |4007        |2100032311     |1              |CA10               |Tolling                                 |185821762              |30                          |2021-07-03        |2021-07-03                  |2021-07-05                    |0.0                      |-2                |\n",
      "|20                           |8010023829   |59229        |3009        |1100197903     |1              |GB10               |Spinning                                |NULL                   |0                           |2021-07-03        |2021-07-16                  |2021-07-24                    |30.0                     |-8                |\n",
      "|10                           |NULL         |NULL         |3024        |2100015291     |2              |GB10               |Resins & Polymers                       |185822217              |10                          |2021-07-03        |2021-07-03                  |2021-07-05                    |0.0                      |-2                |\n",
      "|10                           |8010023829   |59229        |3009        |1100197899     |1              |GB10               |Spinning                                |NULL                   |0                           |2021-07-03        |2021-07-16                  |2021-07-14                    |28.0                     |2                 |\n",
      "|50                           |NULL         |NULL         |4007        |2100011410     |1              |CA10               |Tolling                                 |185823356              |50                          |2021-07-03        |2021-07-04                  |2021-07-06                    |0.0                      |-2                |\n",
      "|10                           |8010001620   |M5W 1P1      |4036        |NULL           |NULL           |CA10               |Transportation, Storage, Mail Services  |NULL                   |0                           |2021-07-03        |2021-07-03                  |2021-07-03                    |0.0                      |0                 |\n",
      "|50                           |NULL         |NULL         |4007        |2100021799     |1              |CA10               |Tolling                                 |185821762              |50                          |2021-07-03        |2021-07-03                  |2021-07-05                    |0.0                      |-2                |\n",
      "|10                           |NULL         |NULL         |3024        |2100015294     |2              |GB10               |Resins & Polymers                       |185822220              |10                          |2021-07-03        |2021-07-03                  |2021-07-03                    |0.0                      |0                 |\n",
      "|10                           |8010001620   |M5W 1P1      |4036        |NULL           |NULL           |CA10               |Transportation, Storage, Mail Services  |NULL                   |0                           |2021-07-03        |2021-07-03                  |2021-07-03                    |0.0                      |0                 |\n",
      "------------------------------------------------------------------------------------------------------------------------------------------------------------------------------------------------------------------------------------------------------------------------------------------------------------------------------------------------------\n",
      "\n",
      "------------------------------------------------------------------------------------------------------------------------------------------------------------------------------------------------------------------------------------------------------------------------------------------------------------------------------------------------------\n",
      "|\"PURCHASE_DOCUMENT_ITEM_ID\"  |\"VENDOR_ID\"  |\"POSTAL_CD\"  |\"PLANT_ID\"  |\"MATERIAL_ID\"  |\"MRP_TYPE_ID\"  |\"COMPANY_CODE_ID\"  |\"SUB_COMMODITY_DESC\"                    |\"INBOUND_DELIVERY_ID\"  |\"INBOUND_DELIVERY_ITEM_ID\"  |\"CREATE_DATE_ML\"  |\"FIRST_GR_POSTING_DATE_ML\"  |\"REQUESTED_DELIVERY_DATE_ML\"  |\"PLANNED_DELIVERY_DAYS\"  |\"TARGET_FEATURE\"  |\n",
      "------------------------------------------------------------------------------------------------------------------------------------------------------------------------------------------------------------------------------------------------------------------------------------------------------------------------------------------------------\n",
      "|30                           |NULL         |NULL         |4007        |2100032311     |1              |CA10               |Tolling                                 |185821762              |30                          |2021-07-03        |2021-07-03                  |2021-07-03                    |0.0                      |0                 |\n",
      "|30                           |NULL         |NULL         |4007        |2100032311     |1              |CA10               |Tolling                                 |185821762              |30                          |2021-07-03        |2021-07-03                  |2021-07-05                    |0.0                      |-2                |\n",
      "|20                           |8010023829   |59229        |3009        |1100197903     |1              |GB10               |Spinning                                |NULL                   |0                           |2021-07-03        |2021-07-16                  |2021-07-24                    |30.0                     |-8                |\n",
      "|10                           |NULL         |NULL         |3024        |2100015291     |2              |GB10               |Resins & Polymers                       |185822217              |10                          |2021-07-03        |2021-07-03                  |2021-07-05                    |0.0                      |-2                |\n",
      "|10                           |8010023829   |59229        |3009        |1100197899     |1              |GB10               |Spinning                                |NULL                   |0                           |2021-07-03        |2021-07-16                  |2021-07-14                    |28.0                     |2                 |\n",
      "|50                           |NULL         |NULL         |4007        |2100011410     |1              |CA10               |Tolling                                 |185823356              |50                          |2021-07-03        |2021-07-04                  |2021-07-06                    |0.0                      |-2                |\n",
      "|10                           |8010001620   |M5W 1P1      |4036        |NULL           |NULL           |CA10               |Transportation, Storage, Mail Services  |NULL                   |0                           |2021-07-03        |2021-07-03                  |2021-07-03                    |0.0                      |0                 |\n",
      "|50                           |NULL         |NULL         |4007        |2100021799     |1              |CA10               |Tolling                                 |185821762              |50                          |2021-07-03        |2021-07-03                  |2021-07-05                    |0.0                      |-2                |\n",
      "|10                           |NULL         |NULL         |3024        |2100015294     |2              |GB10               |Resins & Polymers                       |185822220              |10                          |2021-07-03        |2021-07-03                  |2021-07-03                    |0.0                      |0                 |\n",
      "|10                           |8010001620   |M5W 1P1      |4036        |NULL           |NULL           |CA10               |Transportation, Storage, Mail Services  |NULL                   |0                           |2021-07-03        |2021-07-03                  |2021-07-03                    |0.0                      |0                 |\n",
      "------------------------------------------------------------------------------------------------------------------------------------------------------------------------------------------------------------------------------------------------------------------------------------------------------------------------------------------------------\n",
      "\n"
     ]
    }
   ],
   "source": [
    "\n",
    "# Connecting to the correct table\n",
    "tableName = 'PURCHASE_ORDER_HISTORY'\n",
    "dataframe = session.table(tableName)\n",
    "\n",
    "# Calculation to find the lag between Planned Delivery from Actual Delivery\n",
    "dataframe = dataframe.withColumn(\"target_feature\",\n",
    "                                    datediff('day', \n",
    "                                            col(\"DELIVERY_DATE_ML\"), \n",
    "                                            col(\"FIRST_GR_POSTING_DATE_ML\")))\n",
    "\n",
    "# Example: Selecting specific columns\n",
    "# This selects only a subset of columns. Adjust the column names as needed.\n",
    "filtered_dataframe = dataframe.select(\n",
    "    col(\"PURCHASE_DOCUMENT_ITEM_ID\"), # ID for purchase order\n",
    "    col(\"VENDOR_ID\"),                 # ID of the vendor \"we\" are purchasing from\n",
    "    col(\"POSTAL_CD\"),                 # postal code associated w company code ID\n",
    "    col(\"PLANT_ID\"),                  # ID of plant making purchase\n",
    "    col(\"MATERIAL_ID\"),               # ID of material being purchase\n",
    "    col(\"MRP_TYPE_ID\"),               # determined if material is reordered manually or automatically\n",
    "    col(\"COMPANY_CODE_ID\"),           # copmany w/in INVISTA making purchase\n",
    "    col(\"SUB_COMMODITY_DESC\"),        # description of sub commodity\n",
    "    col(\"INBOUND_DELIVERY_ID\"),       # ID for delivery\n",
    "    col(\"INBOUND_DELIVERY_ITEM_ID\"),  # ID of item w/in delivery\n",
    "    col(\"CREATE_DATE_ML\"),            # date product was made\n",
    "    col(\"FIRST_GR_POSTING_DATE_ML\"),  # expected delivery date\n",
    "    col(\"REQUESTED_DELIVERY_DATE_ML\"),# delivery date from requisition \n",
    "    col(\"PLANNED_DELIVERY_DAYS\"),     # expected days to be delivered\n",
    "    col(\"target_feature\")             # Lag between Planned Delivery from Actual Delivery \n",
    ")\n",
    "\n",
    "# Print a sample of the filtered dataframe to standard output.\n",
    "filtered_dataframe.show()\n",
    "\n",
    "# # Optionally, you might want to filter rows based on some conditions\n",
    "# # Example: Filtering out rows where FIRST_GR_POSTING_DATE_ML is NULL\n",
    "# filtered_dataframe = filtered_dataframe.filter(col(\"FIRST_GR_POSTING_DATE_ML\").is_not_null())\n",
    "\n",
    "# Show the DataFrame after filtering\n",
    "filtered_dataframe.show()"
   ]
  },
  {
   "cell_type": "code",
   "execution_count": 5,
   "metadata": {},
   "outputs": [],
   "source": [
    "stage_name = 'Carret'\n",
    "\n",
    "_ = session.sql('CREATE STAGE IF NOT EXISTS '+ stage_name).collect()"
   ]
  },
  {
   "cell_type": "code",
   "execution_count": 6,
   "metadata": {},
   "outputs": [
    {
     "name": "stderr",
     "output_type": "stream",
     "text": [
      "Package 'xgboost' is not installed in the local environment. Your UDF might not work when the package is installed on the server but not on your local environment.\n"
     ]
    },
    {
     "ename": "TypeError",
     "evalue": "cannot pickle '_thread.lock' object: you might have to save the unpicklable object in the local environment first, add it to the UDF with session.add_import(), and read it from the UDF.",
     "output_type": "error",
     "traceback": [
      "\u001b[1;31m---------------------------------------------------------------------------\u001b[0m",
      "\u001b[1;31mTypeError\u001b[0m                                 Traceback (most recent call last)",
      "File \u001b[1;32mc:\\Users\\peirc\\anaconda3\\envs\\snowpark-ml\\Lib\\site-packages\\snowflake\\snowpark\\_internal\\udf_utils.py:595\u001b[0m, in \u001b[0;36mpickle_function\u001b[1;34m(func)\u001b[0m\n\u001b[0;32m    594\u001b[0m \u001b[38;5;28;01mtry\u001b[39;00m:\n\u001b[1;32m--> 595\u001b[0m     \u001b[38;5;28;01mreturn\u001b[39;00m cloudpickle\u001b[38;5;241m.\u001b[39mdumps(func, protocol\u001b[38;5;241m=\u001b[39mpickle\u001b[38;5;241m.\u001b[39mHIGHEST_PROTOCOL)\n\u001b[0;32m    596\u001b[0m \u001b[38;5;66;03m# it happens when copying the global object inside the UDF that can't be pickled\u001b[39;00m\n",
      "File \u001b[1;32mc:\\Users\\peirc\\anaconda3\\envs\\snowpark-ml\\Lib\\site-packages\\cloudpickle\\cloudpickle_fast.py:73\u001b[0m, in \u001b[0;36mdumps\u001b[1;34m(obj, protocol, buffer_callback)\u001b[0m\n\u001b[0;32m     70\u001b[0m cp \u001b[38;5;241m=\u001b[39m CloudPickler(\n\u001b[0;32m     71\u001b[0m     file, protocol\u001b[38;5;241m=\u001b[39mprotocol, buffer_callback\u001b[38;5;241m=\u001b[39mbuffer_callback\n\u001b[0;32m     72\u001b[0m )\n\u001b[1;32m---> 73\u001b[0m cp\u001b[38;5;241m.\u001b[39mdump(obj)\n\u001b[0;32m     74\u001b[0m \u001b[38;5;28;01mreturn\u001b[39;00m file\u001b[38;5;241m.\u001b[39mgetvalue()\n",
      "File \u001b[1;32mc:\\Users\\peirc\\anaconda3\\envs\\snowpark-ml\\Lib\\site-packages\\cloudpickle\\cloudpickle_fast.py:632\u001b[0m, in \u001b[0;36mCloudPickler.dump\u001b[1;34m(self, obj)\u001b[0m\n\u001b[0;32m    631\u001b[0m \u001b[38;5;28;01mtry\u001b[39;00m:\n\u001b[1;32m--> 632\u001b[0m     \u001b[38;5;28;01mreturn\u001b[39;00m Pickler\u001b[38;5;241m.\u001b[39mdump(\u001b[38;5;28mself\u001b[39m, obj)\n\u001b[0;32m    633\u001b[0m \u001b[38;5;28;01mexcept\u001b[39;00m \u001b[38;5;167;01mRuntimeError\u001b[39;00m \u001b[38;5;28;01mas\u001b[39;00m e:\n",
      "\u001b[1;31mTypeError\u001b[0m: cannot pickle '_thread.lock' object",
      "\nDuring handling of the above exception, another exception occurred:\n",
      "\u001b[1;31mTypeError\u001b[0m                                 Traceback (most recent call last)",
      "Cell \u001b[1;32mIn[6], line 1\u001b[0m\n\u001b[1;32m----> 1\u001b[0m \u001b[38;5;129m@sproc\u001b[39m(name\u001b[38;5;241m=\u001b[39m\u001b[38;5;124m'\u001b[39m\u001b[38;5;124mforecast_order_sproc\u001b[39m\u001b[38;5;124m'\u001b[39m, \n\u001b[0;32m      2\u001b[0m        stage_location\u001b[38;5;241m=\u001b[39m\u001b[38;5;124m'\u001b[39m\u001b[38;5;124m@Carret\u001b[39m\u001b[38;5;124m'\u001b[39m, \n\u001b[0;32m      3\u001b[0m        packages\u001b[38;5;241m=\u001b[39m[\u001b[38;5;124m'\u001b[39m\u001b[38;5;124msnowflake-snowpark-python\u001b[39m\u001b[38;5;124m'\u001b[39m,\u001b[38;5;124m'\u001b[39m\u001b[38;5;124mpycaret\u001b[39m\u001b[38;5;124m'\u001b[39m,\u001b[38;5;124m'\u001b[39m\u001b[38;5;124mpandas\u001b[39m\u001b[38;5;124m'\u001b[39m, \u001b[38;5;124m'\u001b[39m\u001b[38;5;124mxgboost\u001b[39m\u001b[38;5;124m'\u001b[39m],\n\u001b[0;32m      4\u001b[0m        is_permanent\u001b[38;5;241m=\u001b[39m\u001b[38;5;28;01mTrue\u001b[39;00m, \n\u001b[0;32m      5\u001b[0m        replace\u001b[38;5;241m=\u001b[39m\u001b[38;5;28;01mTrue\u001b[39;00m, \n\u001b[0;32m      6\u001b[0m        session\u001b[38;5;241m=\u001b[39msession,\n\u001b[0;32m      7\u001b[0m        execute_as\u001b[38;5;241m=\u001b[39m\u001b[38;5;124m'\u001b[39m\u001b[38;5;124mcaller\u001b[39m\u001b[38;5;124m'\u001b[39m)\n\u001b[0;32m      8\u001b[0m \u001b[38;5;28;01mdef\u001b[39;00m \u001b[38;5;21mforecast_order\u001b[39m(session: Session, forecast_id: \u001b[38;5;28mstr\u001b[39m) \u001b[38;5;241m-\u001b[39m\u001b[38;5;241m>\u001b[39m \u001b[38;5;28;01mNone\u001b[39;00m:\n\u001b[0;32m      9\u001b[0m    \u001b[38;5;28;01mfrom\u001b[39;00m \u001b[38;5;21;01mpycaret\u001b[39;00m\u001b[38;5;21;01m.\u001b[39;00m\u001b[38;5;21;01mtime_series\u001b[39;00m \u001b[38;5;28;01mimport\u001b[39;00m RegressionExperiment\n\u001b[0;32m     10\u001b[0m    \u001b[38;5;28;01mimport\u001b[39;00m \u001b[38;5;21;01mpandas\u001b[39;00m \u001b[38;5;28;01mas\u001b[39;00m \u001b[38;5;21;01mpd\u001b[39;00m\n",
      "File \u001b[1;32mc:\\Users\\peirc\\anaconda3\\envs\\snowpark-ml\\Lib\\site-packages\\snowflake\\snowpark\\stored_procedure.py:545\u001b[0m, in \u001b[0;36mStoredProcedureRegistration.register\u001b[1;34m(self, func, return_type, input_types, name, is_permanent, stage_location, imports, packages, replace, if_not_exists, parallel, execute_as, strict, external_access_integrations, secrets, statement_params, source_code_display, **kwargs)\u001b[0m\n\u001b[0;32m    540\u001b[0m check_register_args(\n\u001b[0;32m    541\u001b[0m     TempObjectType\u001b[38;5;241m.\u001b[39mPROCEDURE, name, is_permanent, stage_location, parallel\n\u001b[0;32m    542\u001b[0m )\n\u001b[0;32m    544\u001b[0m \u001b[38;5;66;03m# register stored procedure\u001b[39;00m\n\u001b[1;32m--> 545\u001b[0m \u001b[38;5;28;01mreturn\u001b[39;00m \u001b[38;5;28mself\u001b[39m\u001b[38;5;241m.\u001b[39m_do_register_sp(\n\u001b[0;32m    546\u001b[0m     func,\n\u001b[0;32m    547\u001b[0m     return_type,\n\u001b[0;32m    548\u001b[0m     input_types,\n\u001b[0;32m    549\u001b[0m     name,\n\u001b[0;32m    550\u001b[0m     stage_location,\n\u001b[0;32m    551\u001b[0m     imports,\n\u001b[0;32m    552\u001b[0m     packages,\n\u001b[0;32m    553\u001b[0m     replace,\n\u001b[0;32m    554\u001b[0m     if_not_exists,\n\u001b[0;32m    555\u001b[0m     parallel,\n\u001b[0;32m    556\u001b[0m     strict,\n\u001b[0;32m    557\u001b[0m     external_access_integrations\u001b[38;5;241m=\u001b[39mexternal_access_integrations,\n\u001b[0;32m    558\u001b[0m     secrets\u001b[38;5;241m=\u001b[39msecrets,\n\u001b[0;32m    559\u001b[0m     statement_params\u001b[38;5;241m=\u001b[39mstatement_params,\n\u001b[0;32m    560\u001b[0m     execute_as\u001b[38;5;241m=\u001b[39mexecute_as,\n\u001b[0;32m    561\u001b[0m     api_call_source\u001b[38;5;241m=\u001b[39m\u001b[38;5;124m\"\u001b[39m\u001b[38;5;124mStoredProcedureRegistration.register\u001b[39m\u001b[38;5;124m\"\u001b[39m,\n\u001b[0;32m    562\u001b[0m     source_code_display\u001b[38;5;241m=\u001b[39msource_code_display,\n\u001b[0;32m    563\u001b[0m     anonymous\u001b[38;5;241m=\u001b[39mkwargs\u001b[38;5;241m.\u001b[39mget(\u001b[38;5;124m\"\u001b[39m\u001b[38;5;124manonymous\u001b[39m\u001b[38;5;124m\"\u001b[39m, \u001b[38;5;28;01mFalse\u001b[39;00m),\n\u001b[0;32m    564\u001b[0m     is_permanent\u001b[38;5;241m=\u001b[39mis_permanent,\n\u001b[0;32m    565\u001b[0m     \u001b[38;5;66;03m# force_inline_code avoids uploading python file\u001b[39;00m\n\u001b[0;32m    566\u001b[0m     \u001b[38;5;66;03m# when we know the code is not too large. This is useful\u001b[39;00m\n\u001b[0;32m    567\u001b[0m     \u001b[38;5;66;03m# in Pandas API to create stored procedures not registered by users.\u001b[39;00m\n\u001b[0;32m    568\u001b[0m     force_inline_code\u001b[38;5;241m=\u001b[39mkwargs\u001b[38;5;241m.\u001b[39mget(\u001b[38;5;124m\"\u001b[39m\u001b[38;5;124mforce_inline_code\u001b[39m\u001b[38;5;124m\"\u001b[39m, \u001b[38;5;28;01mFalse\u001b[39;00m),\n\u001b[0;32m    569\u001b[0m )\n",
      "File \u001b[1;32mc:\\Users\\peirc\\anaconda3\\envs\\snowpark-ml\\Lib\\site-packages\\snowflake\\snowpark\\stored_procedure.py:784\u001b[0m, in \u001b[0;36mStoredProcedureRegistration._do_register_sp\u001b[1;34m(self, func, return_type, input_types, sp_name, stage_location, imports, packages, replace, if_not_exists, parallel, strict, source_code_display, statement_params, execute_as, anonymous, api_call_source, skip_upload_on_content_match, is_permanent, external_access_integrations, secrets, force_inline_code)\u001b[0m\n\u001b[0;32m    774\u001b[0m     \u001b[38;5;28;01mif\u001b[39;00m \u001b[38;5;129;01mnot\u001b[39;00m \u001b[38;5;28many\u001b[39m(package_name \u001b[38;5;129;01min\u001b[39;00m p \u001b[38;5;28;01mfor\u001b[39;00m p \u001b[38;5;129;01min\u001b[39;00m packages):\n\u001b[0;32m    775\u001b[0m         packages\u001b[38;5;241m.\u001b[39mappend(this_package)\n\u001b[0;32m    777\u001b[0m (\n\u001b[0;32m    778\u001b[0m     handler,\n\u001b[0;32m    779\u001b[0m     code,\n\u001b[0;32m    780\u001b[0m     all_imports,\n\u001b[0;32m    781\u001b[0m     all_packages,\n\u001b[0;32m    782\u001b[0m     upload_file_stage_location,\n\u001b[0;32m    783\u001b[0m     custom_python_runtime_version_allowed,\n\u001b[1;32m--> 784\u001b[0m ) \u001b[38;5;241m=\u001b[39m resolve_imports_and_packages(\n\u001b[0;32m    785\u001b[0m     \u001b[38;5;28mself\u001b[39m\u001b[38;5;241m.\u001b[39m_session,\n\u001b[0;32m    786\u001b[0m     TempObjectType\u001b[38;5;241m.\u001b[39mPROCEDURE,\n\u001b[0;32m    787\u001b[0m     func,\n\u001b[0;32m    788\u001b[0m     arg_names,\n\u001b[0;32m    789\u001b[0m     udf_name,\n\u001b[0;32m    790\u001b[0m     stage_location,\n\u001b[0;32m    791\u001b[0m     imports,\n\u001b[0;32m    792\u001b[0m     packages,\n\u001b[0;32m    793\u001b[0m     parallel,\n\u001b[0;32m    794\u001b[0m     statement_params\u001b[38;5;241m=\u001b[39mstatement_params,\n\u001b[0;32m    795\u001b[0m     source_code_display\u001b[38;5;241m=\u001b[39msource_code_display,\n\u001b[0;32m    796\u001b[0m     skip_upload_on_content_match\u001b[38;5;241m=\u001b[39mskip_upload_on_content_match,\n\u001b[0;32m    797\u001b[0m     is_permanent\u001b[38;5;241m=\u001b[39mis_permanent,\n\u001b[0;32m    798\u001b[0m     force_inline_code\u001b[38;5;241m=\u001b[39mforce_inline_code,\n\u001b[0;32m    799\u001b[0m )\n\u001b[0;32m    801\u001b[0m \u001b[38;5;28;01mif\u001b[39;00m \u001b[38;5;129;01mnot\u001b[39;00m custom_python_runtime_version_allowed:\n\u001b[0;32m    802\u001b[0m     check_python_runtime_version(\n\u001b[0;32m    803\u001b[0m         \u001b[38;5;28mself\u001b[39m\u001b[38;5;241m.\u001b[39m_session\u001b[38;5;241m.\u001b[39m_runtime_version_from_requirement\n\u001b[0;32m    804\u001b[0m     )\n",
      "File \u001b[1;32mc:\\Users\\peirc\\anaconda3\\envs\\snowpark-ml\\Lib\\site-packages\\snowflake\\snowpark\\_internal\\udf_utils.py:879\u001b[0m, in \u001b[0;36mresolve_imports_and_packages\u001b[1;34m(session, object_type, func, arg_names, udf_name, stage_location, imports, packages, parallel, is_pandas_udf, is_dataframe_input, max_batch_size, statement_params, source_code_display, skip_upload_on_content_match, is_permanent, force_inline_code)\u001b[0m\n\u001b[0;32m    877\u001b[0m udf_file_name_base \u001b[38;5;241m=\u001b[39m \u001b[38;5;124mf\u001b[39m\u001b[38;5;124m\"\u001b[39m\u001b[38;5;124mudf_py_\u001b[39m\u001b[38;5;132;01m{\u001b[39;00mrandom_number()\u001b[38;5;132;01m}\u001b[39;00m\u001b[38;5;124m\"\u001b[39m\n\u001b[0;32m    878\u001b[0m udf_file_name \u001b[38;5;241m=\u001b[39m \u001b[38;5;124mf\u001b[39m\u001b[38;5;124m\"\u001b[39m\u001b[38;5;132;01m{\u001b[39;00mudf_file_name_base\u001b[38;5;132;01m}\u001b[39;00m\u001b[38;5;124m.zip\u001b[39m\u001b[38;5;124m\"\u001b[39m\n\u001b[1;32m--> 879\u001b[0m code \u001b[38;5;241m=\u001b[39m generate_python_code(\n\u001b[0;32m    880\u001b[0m     func,\n\u001b[0;32m    881\u001b[0m     arg_names,\n\u001b[0;32m    882\u001b[0m     object_type,\n\u001b[0;32m    883\u001b[0m     is_pandas_udf,\n\u001b[0;32m    884\u001b[0m     is_dataframe_input,\n\u001b[0;32m    885\u001b[0m     max_batch_size,\n\u001b[0;32m    886\u001b[0m     source_code_display\u001b[38;5;241m=\u001b[39msource_code_display,\n\u001b[0;32m    887\u001b[0m )\n\u001b[0;32m    888\u001b[0m \u001b[38;5;28;01mif\u001b[39;00m \u001b[38;5;129;01mnot\u001b[39;00m force_inline_code \u001b[38;5;129;01mand\u001b[39;00m \u001b[38;5;28mlen\u001b[39m(code) \u001b[38;5;241m>\u001b[39m _MAX_INLINE_CLOSURE_SIZE_BYTES:\n\u001b[0;32m    889\u001b[0m     dest_prefix \u001b[38;5;241m=\u001b[39m get_udf_upload_prefix(udf_name)\n",
      "File \u001b[1;32mc:\\Users\\peirc\\anaconda3\\envs\\snowpark-ml\\Lib\\site-packages\\snowflake\\snowpark\\_internal\\udf_utils.py:653\u001b[0m, in \u001b[0;36mgenerate_python_code\u001b[1;34m(func, arg_names, object_type, is_pandas_udf, is_dataframe_input, max_batch_size, source_code_display)\u001b[0m\n\u001b[0;32m    651\u001b[0m         annotated_func\u001b[38;5;241m.\u001b[39m\u001b[38;5;18m__annotations__\u001b[39m \u001b[38;5;241m=\u001b[39m {}\n\u001b[0;32m    652\u001b[0m     \u001b[38;5;66;03m# we still serialize the original function\u001b[39;00m\n\u001b[1;32m--> 653\u001b[0m     pickled_func \u001b[38;5;241m=\u001b[39m pickle_function(func)\n\u001b[0;32m    654\u001b[0m \u001b[38;5;28;01mfinally\u001b[39;00m:\n\u001b[0;32m    655\u001b[0m     \u001b[38;5;66;03m# restore the annotations so we don't change the original function\u001b[39;00m\n\u001b[0;32m    656\u001b[0m     \u001b[38;5;28;01mfor\u001b[39;00m annotated_func, annotation \u001b[38;5;129;01min\u001b[39;00m \u001b[38;5;28mzip\u001b[39m(annotated_funcs, annotations):\n",
      "File \u001b[1;32mc:\\Users\\peirc\\anaconda3\\envs\\snowpark-ml\\Lib\\site-packages\\snowflake\\snowpark\\_internal\\udf_utils.py:600\u001b[0m, in \u001b[0;36mpickle_function\u001b[1;34m(func)\u001b[0m\n\u001b[0;32m    598\u001b[0m     error_message \u001b[38;5;241m=\u001b[39m \u001b[38;5;28mstr\u001b[39m(ex)\n\u001b[0;32m    599\u001b[0m     \u001b[38;5;28;01mif\u001b[39;00m \u001b[38;5;124m\"\u001b[39m\u001b[38;5;124mcannot pickle\u001b[39m\u001b[38;5;124m\"\u001b[39m \u001b[38;5;129;01min\u001b[39;00m error_message:\n\u001b[1;32m--> 600\u001b[0m         \u001b[38;5;28;01mraise\u001b[39;00m \u001b[38;5;167;01mTypeError\u001b[39;00m(\u001b[38;5;124mf\u001b[39m\u001b[38;5;124m\"\u001b[39m\u001b[38;5;132;01m{\u001b[39;00merror_message\u001b[38;5;132;01m}\u001b[39;00m\u001b[38;5;124m: \u001b[39m\u001b[38;5;132;01m{\u001b[39;00mfailure_hint\u001b[38;5;132;01m}\u001b[39;00m\u001b[38;5;124m\"\u001b[39m)\n\u001b[0;32m    601\u001b[0m     \u001b[38;5;28;01mraise\u001b[39;00m ex\n\u001b[0;32m    602\u001b[0m \u001b[38;5;66;03m# it shouldn't happen because the function can always be pickled\u001b[39;00m\n\u001b[0;32m    603\u001b[0m \u001b[38;5;66;03m# but we still catch this exception here in case cloudpickle changes its implementation\u001b[39;00m\n",
      "\u001b[1;31mTypeError\u001b[0m: cannot pickle '_thread.lock' object: you might have to save the unpicklable object in the local environment first, add it to the UDF with session.add_import(), and read it from the UDF."
     ]
    }
   ],
   "source": [
    "@sproc(name='forecast_order_sproc', \n",
    "       stage_location='@Carret', \n",
    "       packages=['snowflake-snowpark-python','pycaret','pandas', 'xgboost'],\n",
    "       is_permanent=True, \n",
    "       replace=True, \n",
    "       session=session,\n",
    "       execute_as='caller')\n",
    "def forecast_order(session: Session, forecast_id: str) -> None:\n",
    "   from pycaret.time_series import RegressionExperiment\n",
    "   import pandas as pd\n",
    "   import os\n",
    "\n",
    "   # Create a Snowpark DataFrame, filter and convert to pandas series\n",
    "   #  snowpark_df = session.table('PURCHASE_ORDER_HISTORY').filter(col('TIME_SERIES') == 'store_1_item_1')\n",
    "   #  pandas_df = snowpark_df.to_pandas()\n",
    "   #  pandas_df['DATE'] = pd.to_datetime(pandas_df['DATE'])\n",
    "\n",
    "   #  #setup and run the experiment\n",
    "   #  all_ts = pandas_df['TIME_SERIES'].unique()\n",
    "\n",
    "   all_ts = filtered_dataframe.select('TIME_SERIES').distinct().collect()\n",
    "\n",
    "   for i in all_ts:\n",
    "      df_subset = pandas_df[pandas_df['TIME_SERIES'] == i]      \n",
    "      #setup and run the experiment\n",
    "      exp = RegressionExperiment()\n",
    "      s = exp.setup(df_subset, target = 'TARGET_FEATURE', train_size = 0.95,\n",
    "                     data_split_shuffle = False, fold_strategy = 'timeseries', fold = 3,\n",
    "                     # ignore_features = ['DATE', 'TIME_SERIES'],\n",
    "                     # numeric_features = ['DAY_OF_YEAR', 'YEAR'],\n",
    "                     # categorical_features = ['MONTH', 'DAY_OF_WEEK'],\n",
    "                     preprocess=True,\n",
    "                     verbose = True,\n",
    "                     use_gpu=False,\n",
    "                     log_experiment = False, experiment_name = i, log_plots = False)\n",
    "      \n",
    "      best_model = exp.compare_models(sort = 'MAE', verbose=True)       \n",
    "           \n",
    "      #save best model\n",
    "      exp.save_model(best_model, f'forecast_model_{i}_{forecast_id}')\n",
    "      \n",
    "      session.file.put(\n",
    "         f\"/tmp/forecast_model_{i}_{forecast_id}.pkl\",\n",
    "         \"@PYCARET_TEST_MODELS\",\n",
    "         auto_compress=False,\n",
    "         overwrite=True\n",
    "      )\n",
    "\n",
    "      # save experiment results to Snwoflake table\n",
    "      exp_results = exp.pull()\n",
    "      session.write_pandas(exp_results, table_name=f'EXP_RESULTS_{i}_{forecast_id}', auto_create_table=True, overwrite=False)\n",
    "      \n",
    "return"
   ]
  }
 ],
 "metadata": {
  "kernelspec": {
   "display_name": "snowpark-ml",
   "language": "python",
   "name": "python3"
  },
  "language_info": {
   "codemirror_mode": {
    "name": "ipython",
    "version": 3
   },
   "file_extension": ".py",
   "mimetype": "text/x-python",
   "name": "python",
   "nbconvert_exporter": "python",
   "pygments_lexer": "ipython3",
   "version": "3.11.7"
  }
 },
 "nbformat": 4,
 "nbformat_minor": 2
}
